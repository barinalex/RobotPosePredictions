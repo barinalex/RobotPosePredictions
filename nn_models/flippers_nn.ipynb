{
  "nbformat": 4,
  "nbformat_minor": 0,
  "metadata": {
    "colab": {
      "name": "flippers_nn.ipynb",
      "provenance": [],
      "collapsed_sections": []
    },
    "kernelspec": {
      "name": "python3",
      "display_name": "Python 3"
    },
    "language_info": {
      "name": "python"
    }
  },
  "cells": [
    {
      "cell_type": "code",
      "metadata": {
        "id": "XQdqD_W1x6yN"
      },
      "source": [
        ""
      ],
      "execution_count": null,
      "outputs": []
    },
    {
      "cell_type": "code",
      "metadata": {
        "colab": {
          "base_uri": "https://localhost:8080/"
        },
        "id": "JRqxmY6_yM7k",
        "outputId": "fe1fd73e-e972-4bb6-c72d-7975b439c86c"
      },
      "source": [
        "from google.colab import drive\n",
        "drive.mount('/content/drive')"
      ],
      "execution_count": null,
      "outputs": [
        {
          "output_type": "stream",
          "text": [
            "Mounted at /content/drive\n"
          ],
          "name": "stdout"
        }
      ]
    },
    {
      "cell_type": "code",
      "metadata": {
        "id": "GF51h-NO0bPN"
      },
      "source": [
        "def get_rid_of_nan(h):\n",
        "    for y in range(h.shape[0]):\n",
        "        for x in range(h.shape[1]):\n",
        "            if h[y][x] != h[y][x]:\n",
        "                h[y][x] = 0\n",
        "    return h"
      ],
      "execution_count": null,
      "outputs": []
    },
    {
      "cell_type": "code",
      "metadata": {
        "colab": {
          "base_uri": "https://localhost:8080/"
        },
        "id": "nb6gwrDd0cZm",
        "outputId": "a6942e22-a96c-4234-f9c2-a725ffbe47f4"
      },
      "source": [
        "import torch\n",
        "import numpy as np\n",
        "from sklearn.model_selection import train_test_split\n",
        "data = np.load('drive/MyDrive/JointStatesX1_2021-05-19_11_44_48_015796_4x4heightmap.npz')\n",
        "X = data['heightmaps']\n",
        "X = get_rid_of_nan(X)\n",
        "y = data['base_links'][:,3:5]\n",
        "joint_states = data['joint_states']\n",
        "y = np.hstack((y, joint_states))\n",
        "print(y.shape)\n",
        "Xtr,Xts,ytr,yts = train_test_split(X,y, train_size=0.66)\n",
        "Xtr = torch.from_numpy(Xtr)\n",
        "ytr = torch.from_numpy(ytr)\n",
        "Xts = torch.from_numpy(Xts)\n",
        "yts = torch.from_numpy(yts)\n",
        "print(Xtr.shape)\n",
        "print(ytr.shape)"
      ],
      "execution_count": null,
      "outputs": [
        {
          "output_type": "stream",
          "text": [
            "(12, 6)\n",
            "torch.Size([7, 100])\n",
            "torch.Size([7, 6])\n"
          ],
          "name": "stdout"
        }
      ]
    },
    {
      "cell_type": "code",
      "metadata": {
        "id": "NR4MeuiW1LmZ"
      },
      "source": [
        "from torch import nn\n",
        "import math\n",
        "\n",
        "class ConvNeuralNetwork(nn.Module):\n",
        "    def __init__(self):\n",
        "        super(ConvNeuralNetwork, self).__init__()\n",
        "        self.relu = nn.LeakyReLU(0.01, inplace=True)\n",
        "        self.conv1 = nn.Conv2d(1, 16, [2, 2], bias=False)\n",
        "        self.conv2 = nn.Conv2d(16, 32, [2, 2], bias=False)\n",
        "        self.lin1 = nn.Linear(32*8*8, 128)\n",
        "        self.lin2 = nn.Linear(128, 6)\n",
        "\n",
        "    def forward(self, input):\n",
        "        scale = int(math.sqrt(input.shape[0]))\n",
        "        input = np.reshape(input, (scale,scale))\n",
        "        input = np.expand_dims(input, 0)\n",
        "        input = np.expand_dims(input, 0)\n",
        "        input = torch.from_numpy(input)\n",
        "        x = self.relu(self.conv1(input))\n",
        "        x = self.relu(self.conv2(x))\n",
        "        x = x.view(-1,32*8*8)\n",
        "        x = self.lin1(x)\n",
        "        x = self.lin2(x)\n",
        "        return x"
      ],
      "execution_count": null,
      "outputs": []
    },
    {
      "cell_type": "code",
      "metadata": {
        "colab": {
          "base_uri": "https://localhost:8080/"
        },
        "id": "YPkVlB_54U0t",
        "outputId": "038bbdac-65df-4673-f8cf-98b0197fee68"
      },
      "source": [
        "net = ConvNeuralNetwork()\n",
        "print(net)"
      ],
      "execution_count": null,
      "outputs": [
        {
          "output_type": "stream",
          "text": [
            "ConvNeuralNetwork(\n",
            "  (relu): LeakyReLU(negative_slope=0.01, inplace=True)\n",
            "  (conv1): Conv2d(1, 16, kernel_size=[2, 2], stride=(1, 1), bias=False)\n",
            "  (conv2): Conv2d(16, 32, kernel_size=[2, 2], stride=(1, 1), bias=False)\n",
            "  (lin1): Linear(in_features=2048, out_features=128, bias=True)\n",
            "  (lin2): Linear(in_features=128, out_features=6, bias=True)\n",
            ")\n"
          ],
          "name": "stdout"
        }
      ]
    },
    {
      "cell_type": "code",
      "metadata": {
        "colab": {
          "base_uri": "https://localhost:8080/"
        },
        "id": "dk35ZMKk4stX",
        "outputId": "c409ee4e-95f0-4dcd-fe9f-6d6b6a31e9e2"
      },
      "source": [
        "#train nn\n",
        "\n",
        "from torch.utils.tensorboard import SummaryWriter\n",
        "writer = SummaryWriter()\n",
        "\n",
        "net.train()\n",
        "loss_fn = nn.MSELoss()\n",
        "optimizer = torch.optim.SGD(net.parameters(), lr=0.0001, momentum=0.9, weight_decay=0)\n",
        "\n",
        "EPOCH = 4000\n",
        "step = 0\n",
        "optimizer.zero_grad()\n",
        "\n",
        "n = EPOCH * Xtr.shape[0]\n",
        "losses = np.zeros(n)\n",
        "steps = np.arange(1,n+1,1)\n",
        "\n",
        "for epoch in range(EPOCH):\n",
        "  epoch_train_loss = 0\n",
        "  for x_,y_ in zip(Xtr,ytr):\n",
        "    pred = net(x_.float())\n",
        "    loss = loss_fn(pred[0], y_.float())\n",
        "    epoch_train_loss += loss.item()\n",
        "    writer.add_scalar(\"Loss/train\", loss, epoch)\n",
        "    loss.backward()\n",
        "    optimizer.step()\n",
        "    optimizer.zero_grad()\n",
        "    writer.add_scalar('Loss/train', loss.item(), step)\n",
        "    losses[step] = loss.item()\n",
        "    step += 1\n",
        "    #my_func(step,loss.item())\n",
        "\n",
        "  if (epoch + 1) % 50 == 0:\n",
        "    print(\"epoch:\",epoch)\n",
        "    print(\"loss:\",epoch_train_loss)\n",
        "\n",
        "writer.close()"
      ],
      "execution_count": null,
      "outputs": [
        {
          "output_type": "stream",
          "text": [
            "epoch: 49\n",
            "loss: 1.7871097577735782\n",
            "epoch: 99\n",
            "loss: 1.7325495795812458\n",
            "epoch: 149\n",
            "loss: 1.678607332520187\n",
            "epoch: 199\n",
            "loss: 1.624599805334583\n",
            "epoch: 249\n",
            "loss: 1.5705112933646888\n",
            "epoch: 299\n",
            "loss: 1.5162775798235089\n",
            "epoch: 349\n",
            "loss: 1.4619113055523485\n",
            "epoch: 399\n",
            "loss: 1.4077377442736179\n",
            "epoch: 449\n",
            "loss: 1.3539838274009526\n",
            "epoch: 499\n",
            "loss: 1.3009104661177844\n",
            "epoch: 549\n",
            "loss: 1.2487343992106616\n",
            "epoch: 599\n",
            "loss: 1.197820987785235\n",
            "epoch: 649\n",
            "loss: 1.1485231986735016\n",
            "epoch: 699\n",
            "loss: 1.1012579957023263\n",
            "epoch: 749\n",
            "loss: 1.0564419510774314\n",
            "epoch: 799\n",
            "loss: 1.0142570564057678\n",
            "epoch: 849\n",
            "loss: 0.9750002240762115\n",
            "epoch: 899\n",
            "loss: 0.938690546900034\n",
            "epoch: 949\n",
            "loss: 0.9053703099489212\n",
            "epoch: 999\n",
            "loss: 0.8749307647813112\n",
            "epoch: 1049\n",
            "loss: 0.8472211062908173\n",
            "epoch: 1099\n",
            "loss: 0.8220148028340191\n",
            "epoch: 1149\n",
            "loss: 0.7990222402149811\n",
            "epoch: 1199\n",
            "loss: 0.7779483165359125\n",
            "epoch: 1249\n",
            "loss: 0.7584848764818162\n",
            "epoch: 1299\n",
            "loss: 0.740341630531475\n",
            "epoch: 1349\n",
            "loss: 0.7232682943576947\n",
            "epoch: 1399\n",
            "loss: 0.7070440502138808\n",
            "epoch: 1449\n",
            "loss: 0.691483655537013\n",
            "epoch: 1499\n",
            "loss: 0.6764441161649302\n",
            "epoch: 1549\n",
            "loss: 0.6618084106885362\n",
            "epoch: 1599\n",
            "loss: 0.6474958036560565\n",
            "epoch: 1649\n",
            "loss: 0.633434139599558\n",
            "epoch: 1699\n",
            "loss: 0.619586204411462\n",
            "epoch: 1749\n",
            "loss: 0.605917143082479\n",
            "epoch: 1799\n",
            "loss: 0.5924071035842644\n",
            "epoch: 1849\n",
            "loss: 0.579040760974749\n",
            "epoch: 1899\n",
            "loss: 0.5658100952859968\n",
            "epoch: 1949\n",
            "loss: 0.5527060958120273\n",
            "epoch: 1999\n",
            "loss: 0.5397326462407364\n",
            "epoch: 2049\n",
            "loss: 0.5268908627767814\n",
            "epoch: 2099\n",
            "loss: 0.5141825246391818\n",
            "epoch: 2149\n",
            "loss: 0.5016108655254357\n",
            "epoch: 2199\n",
            "loss: 0.48918075421534013\n",
            "epoch: 2249\n",
            "loss: 0.4768990688753547\n",
            "epoch: 2299\n",
            "loss: 0.46476455706579145\n",
            "epoch: 2349\n",
            "loss: 0.4527960690757027\n",
            "epoch: 2399\n",
            "loss: 0.4409988247207366\n",
            "epoch: 2449\n",
            "loss: 0.4293831443792442\n",
            "epoch: 2499\n",
            "loss: 0.4179564731894061\n",
            "epoch: 2549\n",
            "loss: 0.4067295216664206\n",
            "epoch: 2599\n",
            "loss: 0.39571176427125465\n",
            "epoch: 2649\n",
            "loss: 0.38491225919278804\n",
            "epoch: 2699\n",
            "loss: 0.3743422611441929\n",
            "epoch: 2749\n",
            "loss: 0.3640110292908503\n",
            "epoch: 2799\n",
            "loss: 0.3539273204441997\n",
            "epoch: 2849\n",
            "loss: 0.34410207127803005\n",
            "epoch: 2899\n",
            "loss: 0.33454281718150014\n",
            "epoch: 2949\n",
            "loss: 0.32525723032449605\n",
            "epoch: 2999\n",
            "loss: 0.31625364386854926\n",
            "epoch: 3049\n",
            "loss: 0.3075361504816101\n",
            "epoch: 3099\n",
            "loss: 0.2991046356401057\n",
            "epoch: 3149\n",
            "loss: 0.2909687665014644\n",
            "epoch: 3199\n",
            "loss: 0.28313034128950676\n",
            "epoch: 3249\n",
            "loss: 0.2755892108325497\n",
            "epoch: 3299\n",
            "loss: 0.26834387048438657\n",
            "epoch: 3349\n",
            "loss: 0.2614099194834125\n",
            "epoch: 3399\n",
            "loss: 0.25477367555868113\n",
            "epoch: 3449\n",
            "loss: 0.24843018721730914\n",
            "epoch: 3499\n",
            "loss: 0.24237553537386702\n",
            "epoch: 3549\n",
            "loss: 0.23660333238512976\n",
            "epoch: 3599\n",
            "loss: 0.23110488872043788\n",
            "epoch: 3649\n",
            "loss: 0.22587369381653843\n",
            "epoch: 3699\n",
            "loss: 0.2209004280011868\n",
            "epoch: 3749\n",
            "loss: 0.21617259034974268\n",
            "epoch: 3799\n",
            "loss: 0.21168020547338529\n",
            "epoch: 3849\n",
            "loss: 0.20740872482565464\n",
            "epoch: 3899\n",
            "loss: 0.20335511558005237\n",
            "epoch: 3949\n",
            "loss: 0.1995063143731386\n",
            "epoch: 3999\n",
            "loss: 0.19580972171752364\n"
          ],
          "name": "stdout"
        }
      ]
    },
    {
      "cell_type": "code",
      "metadata": {
        "id": "fmLXq3OnH1Ii"
      },
      "source": [
        "def predict(X,y,label=\"data\"):\n",
        "  #conv\n",
        "  pred = []\n",
        "  for x in X:\n",
        "    pred.append(net(x.float()))\n",
        "  pred = torch.vstack(pred)\n",
        "  loss = loss_fn(pred, y)\n",
        "  y_pred = pred.detach().numpy()\n",
        "\n",
        "  y = y.numpy()\n",
        "  err = y - y_pred\n",
        "  err_mean = np.mean(np.abs(err),axis=0)\n",
        "  value_mean = np.mean(np.abs(y),axis=0)\n",
        "  print(np.round_(y,2))\n",
        "  print(np.round_(y_pred,2))\n",
        "  print(\"errors mean in rad:\",np.round(err_mean, decimals=2))\n",
        "  print(\"values mean in rad:\",np.round(value_mean, decimals=2))\n",
        "  print(\"errors mean:\",np.round(np.rad2deg(err_mean), decimals=2))\n",
        "  print(\"values mean:\",np.round(np.rad2deg(value_mean), decimals=2))\n",
        "  return err, pred"
      ],
      "execution_count": null,
      "outputs": []
    },
    {
      "cell_type": "code",
      "metadata": {
        "colab": {
          "base_uri": "https://localhost:8080/"
        },
        "id": "5qBCckVNIIjy",
        "outputId": "8607c1a9-a805-4ea6-ef3a-9616efbb6600"
      },
      "source": [
        "e,p = predict(Xtr, ytr, \"TRAIN\")"
      ],
      "execution_count": null,
      "outputs": [
        {
          "output_type": "stream",
          "text": [
            "[[-0.02 -0.56  2.19  2.19  0.85  0.85]\n",
            " [-0.01 -0.02 -0.51 -0.51 -0.14 -0.15]\n",
            " [ 0.01  0.36 -2.48 -2.48 -1.22 -1.22]\n",
            " [ 0.   -0.02 -0.46 -0.46  0.2   0.2 ]\n",
            " [-0.01 -0.46  1.54  1.54  0.42  0.42]\n",
            " [-0.01  0.1   0.    0.   -0.41 -0.41]\n",
            " [-0.01 -0.15  0.56  0.56  0.3   0.3 ]]\n",
            "[[-0.01 -0.55  2.22  2.23  0.79  0.79]\n",
            " [-0.01  0.   -0.52 -0.51 -0.13 -0.12]\n",
            " [ 0.01  0.36 -2.46 -2.46 -1.23 -1.22]\n",
            " [-0.    0.02 -0.44 -0.43 -0.06 -0.05]\n",
            " [-0.01 -0.31  1.15  1.15  0.37  0.37]\n",
            " [-0.   -0.08  0.2   0.18  0.05  0.03]\n",
            " [-0.01 -0.23  0.8   0.79  0.29  0.29]]\n",
            "errors mean in rad: [0.   0.07 0.13 0.13 0.12 0.12]\n",
            "values mean in rad: [0.01 0.24 1.11 1.11 0.51 0.51]\n",
            "errors mean: [0.24 4.08 7.44 7.43 7.1  6.88]\n",
            "values mean: [ 0.49 13.75 63.4  63.4  29.03 29.05]\n"
          ],
          "name": "stdout"
        }
      ]
    },
    {
      "cell_type": "code",
      "metadata": {
        "colab": {
          "base_uri": "https://localhost:8080/"
        },
        "id": "B6M03uk2GPMf",
        "outputId": "b187bcc8-a02d-43d3-df7b-d820ae2ffa63"
      },
      "source": [
        "e,p = predict(Xts, yts, \"TEST\")"
      ],
      "execution_count": null,
      "outputs": [
        {
          "output_type": "stream",
          "text": [
            "[[ 0.01  0.02 -1.48 -1.48 -0.21 -0.21]\n",
            " [ 0.    0.26  0.    0.   -1.14 -1.14]\n",
            " [ 0.   -0.01  0.    0.   -0.14 -0.14]\n",
            " [-0.01 -0.02  0.    0.    0.11  0.11]\n",
            " [-0.    0.31 -1.5  -1.5  -1.14 -1.14]]\n",
            "[[-0.    0.36 -2.26 -2.21 -0.77 -0.76]\n",
            " [-0.01 -0.01 -0.73 -0.7  -0.41 -0.39]\n",
            " [ 0.02  0.54 -2.49 -2.5  -0.77 -0.82]\n",
            " [-0.   -0.14  0.44  0.42  0.19  0.17]\n",
            " [-0.03 -0.26  0.72  0.73  0.23  0.24]]\n",
            "errors mean in rad: [0.02 0.37 1.33 1.32 0.67 0.68]\n",
            "values mean in rad: [0.   0.12 0.6  0.6  0.55 0.55]\n",
            "errors mean: [ 0.95 21.1  76.41 75.5  38.45 39.17]\n",
            "values mean: [ 0.22  7.12 34.12 34.12 31.32 31.33]\n"
          ],
          "name": "stdout"
        }
      ]
    }
  ]
}