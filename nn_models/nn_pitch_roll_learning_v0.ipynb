{
  "nbformat": 4,
  "nbformat_minor": 0,
  "metadata": {
    "accelerator": "GPU",
    "colab": {
      "name": "nn_pitch_roll_learning_v0.ipynb",
      "provenance": [],
      "collapsed_sections": []
    },
    "kernelspec": {
      "display_name": "Python 3",
      "name": "python3"
    },
    "language_info": {
      "name": "python"
    }
  },
  "cells": [
    {
      "cell_type": "code",
      "metadata": {
        "colab": {
          "base_uri": "https://localhost:8080/"
        },
        "id": "8f1E-yTUx9Ht",
        "outputId": "1ac59b93-7fe5-4d19-f28f-e9f7ab14a507"
      },
      "source": [
        "from google.colab import drive\n",
        "drive.mount('/content/drive')"
      ],
      "execution_count": null,
      "outputs": [
        {
          "output_type": "stream",
          "text": [
            "Mounted at /content/drive\n"
          ],
          "name": "stdout"
        }
      ]
    },
    {
      "cell_type": "code",
      "metadata": {
        "id": "zM8EQKU0hjFg"
      },
      "source": [
        "def get_rid_of_nan(h):\n",
        "    for y in range(h.shape[0]):\n",
        "        for x in range(h.shape[1]):\n",
        "            if h[y][x] != h[y][x]:\n",
        "                h[y][x] = 0\n",
        "    return h"
      ],
      "execution_count": null,
      "outputs": []
    },
    {
      "cell_type": "code",
      "metadata": {
        "colab": {
          "base_uri": "https://localhost:8080/"
        },
        "id": "XDLNCgT8xleb",
        "outputId": "907f226d-dc87-4e0c-a4b0-5ca7c9e3fef5"
      },
      "source": [
        "import torch\n",
        "import numpy as np\n",
        "from sklearn.model_selection import train_test_split\n",
        "data = np.load('drive/MyDrive/map_pose_cmd_X1_04_01_2x2_centered_base_footprint.npz')\n",
        "X = data['heightmaps']\n",
        "X = get_rid_of_nan(X)\n",
        "y = data['robot_pose'][:,3:5]\n",
        "Xtr,Xts,ytr,yts = train_test_split(X,y, train_size=0.66)\n",
        "Xtr = torch.from_numpy(Xtr)\n",
        "ytr = torch.from_numpy(ytr)\n",
        "Xts = torch.from_numpy(Xts)\n",
        "yts = torch.from_numpy(yts)\n",
        "print(Xtr.shape)\n",
        "print(ytr.shape)"
      ],
      "execution_count": null,
      "outputs": [
        {
          "output_type": "stream",
          "text": [
            "torch.Size([231, 100])\n",
            "torch.Size([231, 2])\n"
          ],
          "name": "stdout"
        }
      ]
    },
    {
      "cell_type": "code",
      "metadata": {
        "id": "y1r0wGblREHM"
      },
      "source": [
        "from torch import nn\n",
        "\n",
        "class NeuralNetwork(nn.Module):\n",
        "    def __init__(self):\n",
        "        super(NeuralNetwork, self).__init__()\n",
        "        self.relu = nn.ReLU()\n",
        "        self.dropout = nn.Dropout(0.3)\n",
        "        self.layer1 = nn.Linear(10*10, 128)\n",
        "        self.layer2 = nn.Linear(128, 256)\n",
        "        self.layer3 = nn.Linear(256, 2)\n",
        "\n",
        "    def forward(self, input):\n",
        "        x = self.dropout(self.relu(self.layer1(input)))\n",
        "        x = self.dropout(self.relu(self.layer2(x)))\n",
        "        output = self.layer3(x)\n",
        "        return output"
      ],
      "execution_count": null,
      "outputs": []
    },
    {
      "cell_type": "code",
      "metadata": {
        "id": "fqpRJ6RJp6Ln"
      },
      "source": [
        "from torch import nn\n",
        "import math\n",
        "\n",
        "class ConvNeuralNetwork(nn.Module):\n",
        "    def __init__(self):\n",
        "        super(ConvNeuralNetwork, self).__init__()\n",
        "        self.relu = nn.LeakyReLU(0.01, inplace=True)\n",
        "        self.conv1 = nn.Conv2d(1, 16, [2, 2], bias=False)\n",
        "        self.conv2 = nn.Conv2d(16, 32, [2, 2], bias=False)\n",
        "        self.lin1 = nn.Linear(32*8*8, 128)\n",
        "        self.lin2 = nn.Linear(128, 2)\n",
        "\n",
        "    def forward(self, input):\n",
        "        scale = int(math.sqrt(input.shape[0]))\n",
        "        input = np.reshape(input, (scale,scale))\n",
        "        input = np.expand_dims(input, 0)\n",
        "        input = np.expand_dims(input, 0)\n",
        "        input = torch.from_numpy(input)\n",
        "        x = self.relu(self.conv1(input))\n",
        "        x = self.relu(self.conv2(x))\n",
        "        x = x.view(-1,32*8*8)\n",
        "        x = self.lin1(x)\n",
        "        x = self.lin2(x)\n",
        "        return x"
      ],
      "execution_count": null,
      "outputs": []
    },
    {
      "cell_type": "code",
      "metadata": {
        "id": "RVpP-uEZXlR7"
      },
      "source": [
        "net = NeuralNetwork()\n",
        "print(net)"
      ],
      "execution_count": null,
      "outputs": []
    },
    {
      "cell_type": "code",
      "metadata": {
        "colab": {
          "base_uri": "https://localhost:8080/"
        },
        "id": "GjhyDUbrqtig",
        "outputId": "a9c65a2e-9b79-4346-ec8f-94956fe12b98"
      },
      "source": [
        "net = ConvNeuralNetwork()\n",
        "print(net)"
      ],
      "execution_count": null,
      "outputs": [
        {
          "output_type": "stream",
          "text": [
            "ConvNeuralNetwork(\n",
            "  (relu): LeakyReLU(negative_slope=0.01, inplace=True)\n",
            "  (conv1): Conv2d(1, 16, kernel_size=[2, 2], stride=(1, 1), bias=False)\n",
            "  (conv2): Conv2d(16, 32, kernel_size=[2, 2], stride=(1, 1), bias=False)\n",
            "  (lin1): Linear(in_features=2048, out_features=128, bias=True)\n",
            "  (lin2): Linear(in_features=128, out_features=2, bias=True)\n",
            ")\n"
          ],
          "name": "stdout"
        }
      ]
    },
    {
      "cell_type": "code",
      "metadata": {
        "id": "0XqB9epO878i"
      },
      "source": [
        "import datetime\n",
        "import tensorflow as tf\n",
        "from tensorflow import summary\n",
        "%load_ext tensorboard\n",
        "\n",
        "current_time = str(datetime.datetime.now().timestamp())\n",
        "train_log_dir = 'logs/tensorboard/train/' + current_time\n",
        "test_log_dir = 'logs/tensorboard/test/' + current_time\n",
        "train_summary_writer = summary.create_file_writer(train_log_dir)\n",
        "test_summary_writer = summary.create_file_writer(test_log_dir)\n",
        "\n"
      ],
      "execution_count": null,
      "outputs": []
    },
    {
      "cell_type": "code",
      "metadata": {
        "id": "Akm6Vr6U-Dp3"
      },
      "source": [
        "@tf.function\n",
        "def my_func(step,loss):\n",
        "  with train_summary_writer.as_default():\n",
        "    tf.summary.scalar(\"loss\",loss,step)"
      ],
      "execution_count": null,
      "outputs": []
    },
    {
      "cell_type": "code",
      "metadata": {
        "colab": {
          "base_uri": "https://localhost:8080/",
          "height": 931
        },
        "id": "gjRKl-vzcqsj",
        "outputId": "5243270a-38de-45e3-d936-b36cdedd0b95"
      },
      "source": [
        "#train nn\n",
        "\n",
        "from torch.utils.tensorboard import SummaryWriter\n",
        "writer = SummaryWriter()\n",
        "\n",
        "net.train()\n",
        "loss_fn = nn.MSELoss()\n",
        "optimizer = torch.optim.SGD(net.parameters(), lr=0.0001, momentum=0.9, weight_decay=0)\n",
        "\n",
        "EPOCH = 1000\n",
        "step = 0\n",
        "optimizer.zero_grad()\n",
        "\n",
        "n = EPOCH * Xtr.shape[0]\n",
        "losses = np.zeros(n)\n",
        "steps = np.arange(1,n,1)\n",
        "\n",
        "for epoch in range(EPOCH):\n",
        "  epoch_train_loss = 0\n",
        "  for x_,y_ in zip(Xtr,ytr):\n",
        "    pred = net(x_.float())\n",
        "    loss = loss_fn(pred[0], y_.float())\n",
        "    epoch_train_loss += loss.item()\n",
        "    writer.add_scalar(\"Loss/train\", loss, epoch)\n",
        "    loss.backward()\n",
        "    optimizer.step()\n",
        "    optimizer.zero_grad()\n",
        "    writer.add_scalar('Loss/train', loss.item(), step)\n",
        "    losses[step] = loss.item()\n",
        "    step += 1\n",
        "    #my_func(step,loss.item())\n",
        "\n",
        "  if (epoch+1) % 50 == 0:\n",
        "    print(\"epoch:\",epoch)\n",
        "    print(\"loss:\",epoch_train_loss)\n",
        "\n",
        "writer.close()"
      ],
      "execution_count": null,
      "outputs": [
        {
          "output_type": "stream",
          "text": [
            "epoch: 0\n",
            "loss: 4.0473662944859825\n",
            "epoch: 50\n",
            "loss: 2.3393428023950946\n",
            "epoch: 100\n",
            "loss: 0.8326189860363229\n",
            "epoch: 150\n",
            "loss: 0.4987275370494899\n",
            "epoch: 200\n",
            "loss: 0.4067055977497205\n",
            "epoch: 250\n",
            "loss: 0.37295107754835044\n",
            "epoch: 300\n",
            "loss: 0.3527610476785412\n",
            "epoch: 350\n",
            "loss: 0.335955757132524\n",
            "epoch: 400\n",
            "loss: 0.3207383934245627\n",
            "epoch: 450\n",
            "loss: 0.30674498843654874\n",
            "epoch: 500\n",
            "loss: 0.29383027905169\n",
            "epoch: 550\n",
            "loss: 0.2819055503707659\n",
            "epoch: 600\n",
            "loss: 0.27089197720022185\n",
            "epoch: 650\n",
            "loss: 0.26073397709498636\n",
            "epoch: 700\n",
            "loss: 0.25136590241923074\n",
            "epoch: 750\n",
            "loss: 0.24271305216825567\n",
            "epoch: 800\n",
            "loss: 0.23471633951933768\n",
            "epoch: 850\n",
            "loss: 0.22731393231981656\n",
            "epoch: 900\n",
            "loss: 0.22044373232938597\n",
            "epoch: 950\n",
            "loss: 0.21404498277746598\n"
          ],
          "name": "stdout"
        },
        {
          "output_type": "error",
          "ename": "IndexError",
          "evalue": "ignored",
          "traceback": [
            "\u001b[0;31m---------------------------------------------------------------------------\u001b[0m",
            "\u001b[0;31mIndexError\u001b[0m                                Traceback (most recent call last)",
            "\u001b[0;32m<ipython-input-83-127ef18eb0aa>\u001b[0m in \u001b[0;36m<module>\u001b[0;34m()\u001b[0m\n\u001b[1;32m     28\u001b[0m     \u001b[0moptimizer\u001b[0m\u001b[0;34m.\u001b[0m\u001b[0mzero_grad\u001b[0m\u001b[0;34m(\u001b[0m\u001b[0;34m)\u001b[0m\u001b[0;34m\u001b[0m\u001b[0;34m\u001b[0m\u001b[0m\n\u001b[1;32m     29\u001b[0m     \u001b[0mwriter\u001b[0m\u001b[0;34m.\u001b[0m\u001b[0madd_scalar\u001b[0m\u001b[0;34m(\u001b[0m\u001b[0;34m'Loss/train'\u001b[0m\u001b[0;34m,\u001b[0m \u001b[0mloss\u001b[0m\u001b[0;34m.\u001b[0m\u001b[0mitem\u001b[0m\u001b[0;34m(\u001b[0m\u001b[0;34m)\u001b[0m\u001b[0;34m,\u001b[0m \u001b[0mstep\u001b[0m\u001b[0;34m)\u001b[0m\u001b[0;34m\u001b[0m\u001b[0;34m\u001b[0m\u001b[0m\n\u001b[0;32m---> 30\u001b[0;31m     \u001b[0mlosses\u001b[0m\u001b[0;34m[\u001b[0m\u001b[0mstep\u001b[0m\u001b[0;34m]\u001b[0m \u001b[0;34m=\u001b[0m \u001b[0mloss\u001b[0m\u001b[0;34m.\u001b[0m\u001b[0mitem\u001b[0m\u001b[0;34m(\u001b[0m\u001b[0;34m)\u001b[0m\u001b[0;34m\u001b[0m\u001b[0;34m\u001b[0m\u001b[0m\n\u001b[0m\u001b[1;32m     31\u001b[0m     \u001b[0;31m#my_func(step,loss.item())\u001b[0m\u001b[0;34m\u001b[0m\u001b[0;34m\u001b[0m\u001b[0;34m\u001b[0m\u001b[0m\n\u001b[1;32m     32\u001b[0m \u001b[0;34m\u001b[0m\u001b[0m\n",
            "\u001b[0;31mIndexError\u001b[0m: index 231000 is out of bounds for axis 0 with size 231000"
          ]
        }
      ]
    },
    {
      "cell_type": "code",
      "metadata": {
        "id": "7wD_ULryFCXT"
      },
      "source": [
        "losses = losses[0:230999]"
      ],
      "execution_count": null,
      "outputs": []
    },
    {
      "cell_type": "code",
      "metadata": {
        "colab": {
          "base_uri": "https://localhost:8080/",
          "height": 282
        },
        "id": "nuP57lLoDKdA",
        "outputId": "70386ae4-b6da-416e-a3b7-cdc4c1c3a964"
      },
      "source": [
        "import matplotlib.pyplot as plt\n",
        "plt.plot(steps,losses)"
      ],
      "execution_count": null,
      "outputs": [
        {
          "output_type": "execute_result",
          "data": {
            "text/plain": [
              "[<matplotlib.lines.Line2D at 0x7f75591238d0>]"
            ]
          },
          "metadata": {
            "tags": []
          },
          "execution_count": 92
        },
        {
          "output_type": "display_data",
          "data": {
            "image/png": "[encoded data removed]",
            "text/plain": [
              "<Figure size 432x288 with 1 Axes>"
            ]
          },
          "metadata": {
            "tags": [],
            "needs_background": "light"
          }
        }
      ]
    },
    {
      "cell_type": "code",
      "metadata": {
        "id": "W-_kQtot5nJk"
      },
      "source": [
        "%tensorboard --logdir logs/tensorboard"
      ],
      "execution_count": null,
      "outputs": []
    },
    {
      "cell_type": "code",
      "metadata": {
        "id": "HGRiTIZDzLda"
      },
      "source": [
        "torch.save(net.state_dict(), 'drive/MyDrive/convnet_state_with_dropout')"
      ],
      "execution_count": null,
      "outputs": []
    },
    {
      "cell_type": "code",
      "metadata": {
        "id": "kUd0to1a89ye"
      },
      "source": [
        "def get_base(y,p):\n",
        "    if y*p < 0:\n",
        "        return 2 * abs(y) + abs(p)\n",
        "    return max(abs(y), abs(p))\n",
        "\n",
        "def evaluate(pred,y):\n",
        "    err = y - pred\n",
        "    max_value = np.maximum(np.abs(y), np.abs(pred))\n",
        "    base_value = np.zeros(y.shape)\n",
        "    for i, y_, p_ in zip(range(y.shape[0]), y, pred):\n",
        "        roll = get_base(y_[0],p_[0])\n",
        "        pitch = get_base(y_[1],p_[1])\n",
        "        base_value[i] = [roll, pitch]\n",
        "    rel_err = np.abs(err/base_value)\n",
        "    rel_err_mean = np.mean(rel_err, axis=0)\n",
        "    err_mean = np.mean(np.abs(err),axis=0)\n",
        "    value_mean = np.mean(np.abs(y),axis=0)\n",
        "    print(\"rellative_err_mean:\",rel_err_mean) # mean(err / max(abs(y),abs(y_pred)))\n",
        "    print(\"errors mean:\",np.round(np.rad2deg(err_mean), decimals=2))\n",
        "    print(\"values mean:\",np.round(np.rad2deg(value_mean), decimals=2))\n",
        "    return err, pred\n"
      ],
      "execution_count": null,
      "outputs": []
    },
    {
      "cell_type": "code",
      "metadata": {
        "id": "-4Js0qBa4GIa"
      },
      "source": [
        "def predict(X,y,label=\"data\"):\n",
        "  #conv\n",
        "  pred = []\n",
        "  for x in X:\n",
        "    pred.append(net(x.float()))\n",
        "  pred = torch.vstack(pred)\n",
        "  loss = loss_fn(pred, y)\n",
        "  y_pred = pred.detach().numpy()\n",
        "  print(label,\"data:\")\n",
        "  e,p = evaluate(y_pred, y.numpy())\n",
        "  return e,p"
      ],
      "execution_count": null,
      "outputs": []
    },
    {
      "cell_type": "code",
      "metadata": {
        "colab": {
          "base_uri": "https://localhost:8080/"
        },
        "id": "vFG81y_-4s-P",
        "outputId": "bd07b17b-d2f5-46af-db03-c484ec18c26c"
      },
      "source": [
        "etr,ptr = predict(Xtr, ytr, \"TRAIN\")"
      ],
      "execution_count": null,
      "outputs": [
        {
          "output_type": "stream",
          "text": [
            "TRAIN data:\n",
            "rellative_err_mean: [0.29771175 0.22256451]\n",
            "errors mean: [1.05 0.99]\n",
            "values mean: [3.69 6.02]\n"
          ],
          "name": "stdout"
        }
      ]
    },
    {
      "cell_type": "code",
      "metadata": {
        "colab": {
          "base_uri": "https://localhost:8080/"
        },
        "id": "gOxAVR9547Pn",
        "outputId": "9d61c260-95e6-4d30-f3ee-fe1c4e8a32bd"
      },
      "source": [
        "ets,pts = predict(Xts, yts, \"TEST\")"
      ],
      "execution_count": null,
      "outputs": [
        {
          "output_type": "stream",
          "text": [
            "TEST data:\n",
            "rellative_err_mean: [0.30390841 0.26019697]\n",
            "errors mean: [1.   1.05]\n",
            "values mean: [3.55 5.7 ]\n"
          ],
          "name": "stdout"
        }
      ]
    },
    {
      "cell_type": "code",
      "metadata": {
        "id": "Lc_GIyOxIiGR"
      },
      "source": [
        ""
      ],
      "execution_count": null,
      "outputs": []
    },
    {
      "cell_type": "markdown",
      "metadata": {
        "id": "frLKwCP-JJHW"
      },
      "source": [
        "# New Section"
      ]
    },
    {
      "cell_type": "code",
      "metadata": {
        "id": "Jqhlp4hRe4o9"
      },
      "source": [
        "data = np.load('drive/MyDrive/map_pose_cmd_X2_23b48289_2x2_centered_base_footprint.npz')\n",
        "X2 = data['heightmaps']\n",
        "X2 = get_rid_of_nan(X2)\n",
        "y2 = data['robot_pose'][:,3:5]\n",
        "X2 = torch.from_numpy(X2)\n",
        "y2 = torch.from_numpy(y2)"
      ],
      "execution_count": null,
      "outputs": []
    },
    {
      "cell_type": "code",
      "metadata": {
        "colab": {
          "base_uri": "https://localhost:8080/"
        },
        "id": "DsxswCui5SVH",
        "outputId": "1e4a1a40-ef44-462f-d2f3-4a6ecb831e76"
      },
      "source": [
        "e2,p2 = predict(X2, y2, \"DIFF DATA SET\")"
      ],
      "execution_count": null,
      "outputs": [
        {
          "output_type": "stream",
          "text": [
            "DIFF DATA SET data:\n",
            "rellative_err_mean: [0.32614138 0.25799299]\n",
            "errors mean: [1.27 1.24]\n",
            "values mean: [4.53 6.44]\n"
          ],
          "name": "stdout"
        }
      ]
    },
    {
      "cell_type": "code",
      "metadata": {
        "id": "tD3HBsDS-Jrk"
      },
      "source": [
        "pred = net(Xtr.float())\n",
        "loss = loss_fn(pred, ytr)\n",
        "y_pred = pred.detach().numpy()\n",
        "ytr_np = ytr.numpy()\n",
        "print(\"TRAIN data:\")\n",
        "e,p = evaluate(y_pred, ytr_np)"
      ],
      "execution_count": null,
      "outputs": []
    },
    {
      "cell_type": "code",
      "metadata": {
        "colab": {
          "base_uri": "https://localhost:8080/"
        },
        "id": "SWC79UjV9dfQ",
        "outputId": "9d7644cd-8edf-4684-db60-9758c183f5b8"
      },
      "source": [
        "pred = net(Xts.float())\n",
        "loss = loss_fn(pred, yts)\n",
        "y_pred = pred.detach().numpy()\n",
        "yts_np = yts.numpy()\n",
        "print(\"TEST data:\")\n",
        "e,p = evaluate(y_pred, yts_np)"
      ],
      "execution_count": null,
      "outputs": [
        {
          "output_type": "stream",
          "text": [
            "TEST data:\n",
            "rellative_err_mean: [0.31406176 0.20501933]\n",
            "errors mean: [1.31 1.25]\n",
            "values mean: [3.79 6.67]\n"
          ],
          "name": "stdout"
        }
      ]
    },
    {
      "cell_type": "code",
      "metadata": {
        "colab": {
          "base_uri": "https://localhost:8080/"
        },
        "id": "zw9NQDHLgm9E",
        "outputId": "df5fbb5a-ab63-4f53-9800-12f9d90dfc3b"
      },
      "source": [
        "pred = net(X2.float())\n",
        "loss = loss_fn(pred, y2)\n",
        "y_pred = pred.detach().numpy()\n",
        "y2_np = y2.numpy()\n",
        "print(\"DIFF data:\")\n",
        "e,p = evaluate(y_pred, y2_np)"
      ],
      "execution_count": null,
      "outputs": [
        {
          "output_type": "stream",
          "text": [
            "DIFF data:\n",
            "rellative_err_mean: [0.36649132 0.3016219 ]\n",
            "errors mean: [1.59 1.59]\n",
            "values mean: [4.53 6.44]\n"
          ],
          "name": "stdout"
        }
      ]
    }
  ]
}